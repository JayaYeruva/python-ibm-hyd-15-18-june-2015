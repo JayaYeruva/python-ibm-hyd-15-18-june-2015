{
 "metadata": {
  "name": "day1-notes.py"
 },
 "nbformat": 3,
 "nbformat_minor": 0,
 "worksheets": [
  {
   "cells": [
    {
     "cell_type": "code",
     "collapsed": false,
     "input": [
      "l = [1, 'two', 3.0, 4+4j, 'steve']\n",
      "print l\n",
      "print len(l)\n",
      "print type(l)"
     ],
     "language": "python",
     "metadata": {},
     "outputs": [
      {
       "output_type": "stream",
       "stream": "stdout",
       "text": [
        "[1, 'two', 3.0, (4+4j), 'steve']\n",
        "5\n",
        "<type 'list'>\n"
       ]
      }
     ],
     "prompt_number": 5
    },
    {
     "cell_type": "code",
     "collapsed": false,
     "input": [
      "l = [1, 'two', 3.0, 4+4j, 'steve']\n",
      "l.append('jobs')\n",
      "l.insert(0, 'ibm')\n",
      "l"
     ],
     "language": "python",
     "metadata": {},
     "outputs": [
      {
       "output_type": "pyout",
       "prompt_number": 7,
       "text": [
        "['ibm', 1, 'two', 3.0, (4+4j), 'steve', 'jobs']"
       ]
      }
     ],
     "prompt_number": 7
    },
    {
     "cell_type": "code",
     "collapsed": false,
     "input": [
      "l = [1, 'two', 3.0, 4+4j, 'steve']\n",
      "del l[2]\n",
      "print l.pop()\n",
      "print l.pop(0)\n",
      "print l"
     ],
     "language": "python",
     "metadata": {},
     "outputs": [
      {
       "output_type": "stream",
       "stream": "stdout",
       "text": [
        "steve\n",
        "1\n",
        "['two', (4+4j)]\n"
       ]
      }
     ],
     "prompt_number": 11
    },
    {
     "cell_type": "code",
     "collapsed": false,
     "input": [
      "l = [1, 'two', 3.0, 4+4j, 'steve']\n",
      "other = ['ibm hyderbad']\n",
      "l.extend(other)\n",
      "print l"
     ],
     "language": "python",
     "metadata": {},
     "outputs": [
      {
       "output_type": "stream",
       "stream": "stdout",
       "text": [
        "[1, 'two', 3.0, (4+4j), 'steve', 'ibm hyderbad']\n"
       ]
      }
     ],
     "prompt_number": 13
    },
    {
     "cell_type": "code",
     "collapsed": false,
     "input": [
      "l = [1, 'two', 3.0, 4+4j, 'steve']\n",
      "l[-1] = 'ibm'\n",
      "print l"
     ],
     "language": "python",
     "metadata": {},
     "outputs": [
      {
       "output_type": "stream",
       "stream": "stdout",
       "text": [
        "[1, 'two', 3.0, (4+4j), 'ibm']\n"
       ]
      }
     ],
     "prompt_number": 16
    },
    {
     "cell_type": "code",
     "collapsed": false,
     "input": [
      "#indexing \n",
      "s = 'python'\n",
      "print s[0]\n",
      "print s[1]"
     ],
     "language": "python",
     "metadata": {},
     "outputs": [
      {
       "output_type": "stream",
       "stream": "stdout",
       "text": [
        "p\n",
        "y\n"
       ]
      }
     ],
     "prompt_number": 17
    },
    {
     "cell_type": "code",
     "collapsed": false,
     "input": [
      "s = 'python'\n",
      "print s[-1]\n",
      "print s[-2]\n",
      "print s[-3]"
     ],
     "language": "python",
     "metadata": {},
     "outputs": [
      {
       "output_type": "stream",
       "stream": "stdout",
       "text": [
        "n\n",
        "o\n",
        "h\n"
       ]
      }
     ],
     "prompt_number": 18
    },
    {
     "cell_type": "code",
     "collapsed": false,
     "input": [
      "#slicing\n",
      "#name[start-index:ex-of-end-index:occurance]\n",
      "s = 'perlandpython'\n",
      "print s[::2]\n",
      "print s[1::2]\n",
      "print s[::-1] == s\n",
      "\n"
     ],
     "language": "python",
     "metadata": {},
     "outputs": [
      {
       "output_type": "stream",
       "stream": "stdout",
       "text": [
        "pradyhn\n",
        "elnpto\n",
        "False\n"
       ]
      }
     ],
     "prompt_number": 30
    },
    {
     "cell_type": "code",
     "collapsed": false,
     "input": [
      "l = [1, 'two', 3.0, 4+4j, 'steve']\n",
      "print l[::-1]"
     ],
     "language": "python",
     "metadata": {},
     "outputs": [
      {
       "output_type": "stream",
       "stream": "stdout",
       "text": [
        "['steve', (4+4j), 3.0, 'two', 1]\n"
       ]
      }
     ],
     "prompt_number": 31
    },
    {
     "cell_type": "code",
     "collapsed": false,
     "input": [
      "s = 'python'\n",
      "for item in s:\n",
      "    print \"{} : {}\".format(item, ord(item))"
     ],
     "language": "python",
     "metadata": {},
     "outputs": [
      {
       "output_type": "stream",
       "stream": "stdout",
       "text": [
        "p : 112\n",
        "y : 121\n",
        "t : 116\n",
        "h : 104\n",
        "o : 111\n",
        "n : 110\n"
       ]
      }
     ],
     "prompt_number": 32
    },
    {
     "cell_type": "code",
     "collapsed": false,
     "input": [
      "ord('A')"
     ],
     "language": "python",
     "metadata": {},
     "outputs": [
      {
       "output_type": "pyout",
       "prompt_number": 33,
       "text": [
        "65"
       ]
      }
     ],
     "prompt_number": 33
    },
    {
     "cell_type": "code",
     "collapsed": false,
     "input": [
      "l = [1, 'two', 3.0, 4+4j, 'steve']\n",
      "for i in l:\n",
      "    print \"{:>6} : {}\".format(i, type(i))"
     ],
     "language": "python",
     "metadata": {},
     "outputs": [
      {
       "output_type": "stream",
       "stream": "stdout",
       "text": [
        "     1 : <type 'int'>\n",
        "   two : <type 'str'>\n",
        "   3.0 : <type 'float'>\n",
        "(4+4j) : <type 'complex'>\n",
        " steve : <type 'str'>\n"
       ]
      }
     ],
     "prompt_number": 36
    },
    {
     "cell_type": "code",
     "collapsed": false,
     "input": [
      "s = 'root:x:0:0:root:/root:/bin/bash'\n",
      "print s.split(':')\n",
      "print s.split(':')[0]\n",
      "print s.split(':')[-1]\n",
      "\n",
      "l = ['root', 'x', '0', '0', 'root', '/root', '/bin/bash']\n",
      "print '|'.join(l)"
     ],
     "language": "python",
     "metadata": {},
     "outputs": [
      {
       "output_type": "stream",
       "stream": "stdout",
       "text": [
        "['root', 'x', '0', '0', 'root', '/root', '/bin/bash']\n",
        "root\n",
        "/bin/bash\n",
        "root|x|0|0|root|/root|/bin/bash\n"
       ]
      }
     ],
     "prompt_number": 39
    },
    {
     "cell_type": "code",
     "collapsed": false,
     "input": [
      "l = ['root', 'x', '0', 0, 'root', '/root', '/bin/bash']\n",
      "l = map(str, l)\n",
      "print l\n",
      "temp = ''\n",
      "for item in l:\n",
      "    temp += item + '|'\n",
      "print temp.rstrip('|')  "
     ],
     "language": "python",
     "metadata": {},
     "outputs": [
      {
       "output_type": "stream",
       "stream": "stdout",
       "text": [
        "['root', 'x', '0', '0', 'root', '/root', '/bin/bash']\n",
        "root|x|0|0|root|/root|/bin/bash\n"
       ]
      }
     ],
     "prompt_number": 44
    },
    {
     "cell_type": "code",
     "collapsed": false,
     "input": [
      "map(ord, 'perl')"
     ],
     "language": "python",
     "metadata": {},
     "outputs": [
      {
       "output_type": "pyout",
       "prompt_number": 46,
       "text": [
        "[112, 101, 114, 108]"
       ]
      }
     ],
     "prompt_number": 46
    },
    {
     "cell_type": "code",
     "collapsed": false,
     "input": [
      "l = ['pam', 4, 'amanda', 5, 'charlie', 44, 'kim', 12, 1]\n",
      "#l.reverse()  #inplace update \n",
      "#l.sort(reverse=True)\n",
      "for item in  sorted(l, reverse=True):\n",
      "    print item\n",
      "print l   "
     ],
     "language": "python",
     "metadata": {},
     "outputs": [
      {
       "output_type": "stream",
       "stream": "stdout",
       "text": [
        "pam\n",
        "kim\n",
        "charlie\n",
        "amanda\n",
        "44\n",
        "12\n",
        "5\n",
        "4\n",
        "1\n",
        "['pam', 4, 'amanda', 5, 'charlie', 44, 'kim', 12, 1]\n"
       ]
      }
     ],
     "prompt_number": 61
    },
    {
     "cell_type": "code",
     "collapsed": false,
     "input": [
      "l = ['pam', 4, 'amanda', 5, 'charlie', 44, 'kim', 12, 1]\n",
      "l = []\n"
     ],
     "language": "python",
     "metadata": {},
     "outputs": [],
     "prompt_number": 67
    },
    {
     "cell_type": "code",
     "collapsed": false,
     "input": [
      "mat = [[1,2,3], [4,5,6, 10], [7,8,9]]\n",
      "#print [row[1] for row in mat]\n",
      "print [c for r in mat if len(r) == 3 for c in r if c%2]\n"
     ],
     "language": "python",
     "metadata": {},
     "outputs": [
      {
       "output_type": "stream",
       "stream": "stdout",
       "text": [
        "[(1, 1), (3, 3), (7, 7), (9, 9)]\n"
       ]
      }
     ],
     "prompt_number": 90
    },
    {
     "cell_type": "code",
     "collapsed": false,
     "input": [
      "l = range(1, 8)\n",
      "from random import shuffle\n",
      "shuffle(l)\n",
      "print l"
     ],
     "language": "python",
     "metadata": {},
     "outputs": [
      {
       "output_type": "stream",
       "stream": "stdout",
       "text": [
        "[3, 4, 5, 7, 2, 1, 6]\n"
       ]
      }
     ],
     "prompt_number": 78
    },
    {
     "cell_type": "code",
     "collapsed": false,
     "input": [
      "l = [3, 4, 5, 7, 2, 1, 6]\n",
      "temp = []\n",
      "for i in l:\n",
      "    temp.append(i ** i)\n",
      "    \n",
      "temp    "
     ],
     "language": "python",
     "metadata": {},
     "outputs": [
      {
       "output_type": "pyout",
       "prompt_number": 79,
       "text": [
        "[27, 256, 3125, 823543, 4, 1, 46656]"
       ]
      }
     ],
     "prompt_number": 79
    },
    {
     "cell_type": "code",
     "collapsed": false,
     "input": [
      "#list comp\n",
      "l = [3, 4, 5, 7, 2, 1, 6]\n",
      "res = [i ** i for i in l]\n",
      "print res"
     ],
     "language": "python",
     "metadata": {},
     "outputs": [
      {
       "output_type": "stream",
       "stream": "stdout",
       "text": [
        "[27, 256, 3125, 823543, 4, 1, 46656]\n"
       ]
      }
     ],
     "prompt_number": 81
    },
    {
     "cell_type": "code",
     "collapsed": false,
     "input": [
      "l = [3, 4, 5, 7, 2, 1, 6]\n",
      "[bin(i) for i in l]"
     ],
     "language": "python",
     "metadata": {},
     "outputs": [
      {
       "output_type": "pyout",
       "prompt_number": 82,
       "text": [
        "['0b11', '0b100', '0b101', '0b111', '0b10', '0b1', '0b110']"
       ]
      }
     ],
     "prompt_number": 82
    },
    {
     "cell_type": "code",
     "collapsed": false,
     "input": [
      "[str(i) for i in range(5)]"
     ],
     "language": "python",
     "metadata": {},
     "outputs": [
      {
       "output_type": "pyout",
       "prompt_number": 83,
       "text": [
        "['0', '1', '2', '3', '4']"
       ]
      }
     ],
     "prompt_number": 83
    },
    {
     "cell_type": "code",
     "collapsed": false,
     "input": [
      "l = ['0b11', '0b1', '0b110']\n",
      "for i, v in enumerate(l, 1):\n",
      "    print i, v"
     ],
     "language": "python",
     "metadata": {},
     "outputs": [
      {
       "output_type": "stream",
       "stream": "stdout",
       "text": [
        "1 0b11\n",
        "2 0b1\n",
        "3 0b110\n"
       ]
      }
     ],
     "prompt_number": 92
    },
    {
     "cell_type": "code",
     "collapsed": false,
     "input": [
      "name = ['pam', 'sam', 'kim', 'pete']\n",
      "gender = ['female', 'male', 'female','male']\n",
      "age = [4, 1, 3, 2, 5, 6]\n",
      "print zip(name, gender, age)\n",
      "\n",
      "\n",
      "for n, g, a in zip(name, gender, age):\n",
      "    print \"{} {} {}\".format(n, g, a)\n"
     ],
     "language": "python",
     "metadata": {},
     "outputs": [],
     "prompt_number": "*"
    },
    {
     "cell_type": "code",
     "collapsed": false,
     "input": [],
     "language": "python",
     "metadata": {},
     "outputs": []
    }
   ],
   "metadata": {}
  }
 ]
}